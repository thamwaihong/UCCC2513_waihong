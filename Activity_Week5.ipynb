{
 "cells": [
  {
   "cell_type": "markdown",
   "id": "031cd420",
   "metadata": {},
   "source": [
    "# Setup:"
   ]
  },
  {
   "cell_type": "code",
   "execution_count": 1,
   "id": "6fcbed70",
   "metadata": {},
   "outputs": [
    {
     "data": {
      "text/plain": [
       "True"
      ]
     },
     "execution_count": 1,
     "metadata": {},
     "output_type": "execute_result"
    }
   ],
   "source": [
    "import sys\n",
    "# Python 3.7 is required\n",
    "assert sys.version_info >= (3,7)\n",
    "\n",
    "import cv2 as cv\n",
    "import numpy as np\n",
    "\n",
    "# Make sure that optimization is enabled\n",
    "if not cv.useOptimized():\n",
    "    cv.setUseOptimized(True)\n",
    "\n",
    "cv.useOptimized()"
   ]
  },
  {
   "cell_type": "markdown",
   "id": "d8adf544",
   "metadata": {},
   "source": [
    "# Activity 1:"
   ]
  },
  {
   "cell_type": "code",
   "execution_count": 2,
   "id": "d3fdb032",
   "metadata": {},
   "outputs": [],
   "source": [
    "def crop_grid(img, num_horizontal_grid, num_vertical_grid, line_color):\n",
    "    height, width = img.shape[:2]\n",
    "    \n",
    "    # M and N are basically number of pixels per patch\n",
    "    M = height//num_horizontal_grid\n",
    "    N = width//num_vertical_grid\n",
    "    \n",
    "    x1, y1 = 0, 0\n",
    "    \n",
    "    for y in range(0, height, M):\n",
    "        for x in range(0, width, N):\n",
    "            if (height - y) < M or (width - x) < N:\n",
    "                break\n",
    "\n",
    "            y1 = y + M    # lower right coordinate that will be used to construct rectangle\n",
    "            x1 = x + N\n",
    "\n",
    "            # Check whether patch lower right coordinate exceeds image height and width\n",
    "            if x1 >= width and y1 >= height:\n",
    "                x1 = width - 1\n",
    "                y1 = height - 1\n",
    "                tile = img[y:height, x:width]\n",
    "                cv.rectangle(img, (x, y), (x1, y1), line_color, 1)\n",
    "\n",
    "            # When patch lower right y-coordinate exceeds patch height\n",
    "            elif y1 >= height:\n",
    "                y1 = height - 1\n",
    "                cv.rectangle(img, (x, y), (x1, y1), line_color, 1)\n",
    "\n",
    "            # When patch lower right x-coordinate exceeds patch width\n",
    "            elif x1 >= width:\n",
    "                x1 = width - 1\n",
    "                cv.rectangle(img, (x, y), (x1, y1), line_color, 1)\n",
    "\n",
    "            else:\n",
    "                cv.rectangle(img, (x, y), (x1, y1), line_color, 1)\n",
    "\n",
    "\n",
    "                \n",
    "img = cv.imread('dog.jfif')\n",
    "img_copy = img.copy()\n",
    "\n",
    "crop_grid(img_copy, 4, 4, (255,255,0))\n",
    "\n",
    "cv.imshow('patched image', img_copy)\n",
    "cv.waitKey(0)\n",
    "cv.destroyAllWindows()"
   ]
  },
  {
   "cell_type": "markdown",
   "id": "327361fc",
   "metadata": {},
   "source": [
    "# Activity 2:"
   ]
  },
  {
   "cell_type": "code",
   "execution_count": 3,
   "id": "eda156f6",
   "metadata": {
    "scrolled": true
   },
   "outputs": [],
   "source": [
    "boolean = True\n",
    "\n",
    "while boolean:\n",
    "    img1 = cv.imread('lena.jpg')\n",
    "    img2 = cv.resize(cv.imread('coins.jfif'), img1.shape[:2])\n",
    "    for i in np.linspace(0,1,100):\n",
    "        alpha = i\n",
    "        beta = 1 - alpha\n",
    "        output = cv.addWeighted(img1,alpha,img2,beta,0)\n",
    "        cv.imshow('Transition Effect ',output)\n",
    "        if (cv.waitKey(10) == 27):\n",
    "            boolean = False\n",
    "            \n",
    "    cv.destroyAllWindows()"
   ]
  },
  {
   "cell_type": "markdown",
   "id": "56e54e93",
   "metadata": {},
   "source": [
    "# Activity 3:"
   ]
  },
  {
   "cell_type": "code",
   "execution_count": 4,
   "id": "ea6388e1",
   "metadata": {},
   "outputs": [],
   "source": [
    "import imutils\n",
    "\n",
    "img = cv.imread('lena.jpg')\n",
    "\n",
    "rotate_image = imutils.rotate_bound(img, 45)\n",
    "\n",
    "cv.imshow('Rotated lena',rotate_image)\n",
    "cv.waitKey(0)\n",
    "cv.destroyAllWindows()"
   ]
  },
  {
   "cell_type": "markdown",
   "id": "70656b63",
   "metadata": {},
   "source": [
    "# Activity 4:"
   ]
  },
  {
   "cell_type": "code",
   "execution_count": 5,
   "id": "1f0623d4",
   "metadata": {},
   "outputs": [],
   "source": [
    "img1 = cv.imread('native-bee.png')\n",
    "img2 = cv.imread('flower.jfif')\n",
    "\n",
    "roi = img1[:img2.shape[0], :img2.shape[1]]\n",
    "\n",
    "flower_grayscale = cv.cvtColor(img2, cv.COLOR_BGR2GRAY)\n",
    "retval, threshold = cv.threshold(flower_grayscale, 80, 255, cv.THRESH_BINARY)\n",
    "new_threshold = cv.bitwise_not(threshold)\n",
    "\n",
    "#Black a flower shape in the region\n",
    "img1_flower = cv.bitwise_and(roi, roi, mask = new_threshold)\n",
    "\n",
    "#Crop out the flower\n",
    "img2_flower = cv.bitwise_and(img2, img2, mask = threshold)\n",
    "\n",
    "#Combine(cropped flower + blacked flower shape) and replace the roi\n",
    "dst = cv.add(img1_flower, img2_flower)\n",
    "img1[:img2.shape[0], :img2.shape[1]] = dst\n",
    "\n",
    "cv.imshow('Flower Bee', img1)\n",
    "cv.waitKey(0)\n",
    "cv.destroyAllWindows()"
   ]
  },
  {
   "cell_type": "code",
   "execution_count": null,
   "id": "b7c7448f",
   "metadata": {},
   "outputs": [],
   "source": []
  }
 ],
 "metadata": {
  "kernelspec": {
   "display_name": "Python 3 (ipykernel)",
   "language": "python",
   "name": "python3"
  },
  "language_info": {
   "codemirror_mode": {
    "name": "ipython",
    "version": 3
   },
   "file_extension": ".py",
   "mimetype": "text/x-python",
   "name": "python",
   "nbconvert_exporter": "python",
   "pygments_lexer": "ipython3",
   "version": "3.10.5"
  }
 },
 "nbformat": 4,
 "nbformat_minor": 5
}
