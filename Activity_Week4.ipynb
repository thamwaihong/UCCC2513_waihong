{
 "cells": [
  {
   "cell_type": "markdown",
   "id": "eb0bc81e",
   "metadata": {},
   "source": [
    "## Setup"
   ]
  },
  {
   "cell_type": "code",
   "execution_count": 1,
   "id": "b3d713ea",
   "metadata": {},
   "outputs": [
    {
     "data": {
      "text/plain": [
       "True"
      ]
     },
     "execution_count": 1,
     "metadata": {},
     "output_type": "execute_result"
    }
   ],
   "source": [
    "import sys\n",
    "# Python 3.7 is required\n",
    "assert sys.version_info >= (3,7)\n",
    "\n",
    "import cv2 as cv\n",
    "import numpy as np\n",
    "\n",
    "# For reproducibility,\n",
    "np.random.seed(99)\n",
    "\n",
    "# Make sure that optimization is enabled\n",
    "if not cv.useOptimized():\n",
    "    cv.setUseOptimized(True)\n",
    "\n",
    "cv.useOptimized()"
   ]
  },
  {
   "cell_type": "markdown",
   "id": "01f2796e",
   "metadata": {},
   "source": [
    "## Activity 1 (way 1)"
   ]
  },
  {
   "cell_type": "code",
   "execution_count": 2,
   "id": "ed03d2c3",
   "metadata": {},
   "outputs": [
    {
     "name": "stdout",
     "output_type": "stream",
     "text": [
      "False\n",
      "False\n",
      "(183, 275, 3)\n",
      "(183, 275)\n"
     ]
    },
    {
     "data": {
      "text/plain": [
       "True"
      ]
     },
     "execution_count": 2,
     "metadata": {},
     "output_type": "execute_result"
    }
   ],
   "source": [
    "#read the images into the variables\n",
    "img1 = cv.imread('flower.jfif')\n",
    "img1_grayscale = cv.imread('flower.jfif', 0)\n",
    "\n",
    "#check the variable status\n",
    "print(img1 is None)\n",
    "print(img1_grayscale is None)\n",
    "\n",
    "#check the shape\n",
    "print(img1.shape)\n",
    "print(img1_grayscale.shape)\n",
    "\n",
    "#output the grayscale image so it will become 3D\n",
    "cv.imwrite('flower_save.png', img1_grayscale)"
   ]
  },
  {
   "cell_type": "code",
   "execution_count": 3,
   "id": "dc4b573b",
   "metadata": {},
   "outputs": [
    {
     "name": "stdout",
     "output_type": "stream",
     "text": [
      "(183, 275, 3)\n",
      "(183, 275, 3)\n"
     ]
    }
   ],
   "source": [
    "#load again the grayscale image\n",
    "img1_grayscale = cv.imread('flower_save.png')\n",
    "\n",
    "#check again the shape\n",
    "print(img1.shape)\n",
    "print(img1_grayscale.shape)"
   ]
  },
  {
   "cell_type": "code",
   "execution_count": 4,
   "id": "07a22124",
   "metadata": {},
   "outputs": [],
   "source": [
    "#concatenate images together\n",
    "images1 = np.concatenate((img1, img1_grayscale), axis=0)\n",
    " \n",
    "cv.imshow('Simultaneous Way 1', images1)\n",
    " \n",
    "cv.waitKey(0)\n",
    "cv.destroyAllWindows()"
   ]
  },
  {
   "cell_type": "markdown",
   "id": "8e8550ab",
   "metadata": {},
   "source": [
    "## Activity 1 (way 2)"
   ]
  },
  {
   "cell_type": "code",
   "execution_count": 5,
   "id": "1fa7b369",
   "metadata": {},
   "outputs": [
    {
     "name": "stdout",
     "output_type": "stream",
     "text": [
      "False\n",
      "False\n",
      "(183, 275, 3)\n",
      "(183, 275, 3)\n",
      "(183, 275, 3)\n"
     ]
    }
   ],
   "source": [
    "#read the images into the variables\n",
    "img2 = cv.imread('flower.jfif')\n",
    "img2_colored = img2.copy()\n",
    "\n",
    "#check the variable status\n",
    "print(img2 is None)\n",
    "print(img2_colored is None)\n",
    "\n",
    "#check the shape\n",
    "print(img2.shape)\n",
    "print(img2_colored.shape)\n",
    "\n",
    "#get the dimension of the image array\n",
    "(row, col) = img2.shape[0:2]\n",
    "\n",
    "#convert from color to grayscale\n",
    "#by average the BGR pixel values\n",
    "for i in range(row):\n",
    "    for j in range(col):\n",
    "        img2[i, j] = sum(img2[i, j]) * 0.33\n",
    "\n",
    "print(img2.shape)\n",
    "\n",
    "images2 = np.concatenate((img2_colored, img2), axis=0)\n",
    "\n",
    "cv.imshow('Simultaneous Way 2', images2)\n",
    "cv.waitKey(0)\n",
    "cv.destroyAllWindows()"
   ]
  },
  {
   "cell_type": "markdown",
   "id": "6955abda",
   "metadata": {},
   "source": [
    "## Activity 2"
   ]
  },
  {
   "cell_type": "code",
   "execution_count": 6,
   "id": "b4d442ec",
   "metadata": {},
   "outputs": [],
   "source": [
    "# Create a VideoCapture object\n",
    "cap = cv.VideoCapture('img_pexels.mp4')\n",
    "\n",
    "# Check if the object has been created successfully\n",
    "if not cap.isOpened():\n",
    "    print(\"Unable to create video\")\n",
    "\n",
    "# Define the codec and create VideoWriter object\n",
    "fourcc = cv.VideoWriter_fourcc('M', 'J', 'P', 'G')\n",
    "fps = 20\n",
    "out = cv.VideoWriter('smaller_img_pexels.avi', fourcc, fps, (540, 960))\n",
    "\n",
    "# Read until the video is completed.\n",
    "while cap.isOpened():\n",
    "    ret, frame = cap.read()\n",
    "    \n",
    "    # if frame is read then ret is True\n",
    "    if not ret:\n",
    "        print(\"Can't receive frame.\")\n",
    "        break\n",
    "    \n",
    "    #create a new frame\n",
    "    new_frame = cv.resize(frame, (540,960), fx=0, fy=0, interpolation=cv.INTER_CUBIC)\n",
    "    out.write(new_frame)\n",
    "    \n",
    "    cv.imshow('frame', frame)\n",
    "    # Press Esc key to exit (27 is ASCII code for Esc). cv.waitKey() returns 32 bit integer values. You can find the ASCII table\n",
    "    # on this URL: https://theasciicode.com.ar/\n",
    "    if cv.waitKey(1) & 0xFF == 27: # only exit when press the \"esc\" key\n",
    "        break\n",
    "\n",
    "# destroy the constructor\n",
    "cap.release()\n",
    "out.release()\n",
    "cv.destroyAllWindows()"
   ]
  },
  {
   "cell_type": "markdown",
   "id": "f08fe4f1",
   "metadata": {},
   "source": [
    "## Activity 3"
   ]
  },
  {
   "cell_type": "code",
   "execution_count": 7,
   "id": "c4801249",
   "metadata": {
    "scrolled": true
   },
   "outputs": [
    {
     "name": "stdout",
     "output_type": "stream",
     "text": [
      "False\n"
     ]
    }
   ],
   "source": [
    "#Read image as grayscale\n",
    "img = cv.imread('dog.jfif', 0)\n",
    "\n",
    "#check the availability\n",
    "print(img is None)\n",
    "\n",
    "noise = np.random.normal(0, 1, img.size)\n",
    "noise = noise.reshape(img.shape[0], img.shape[1]).astype('uint8')\n",
    "noise = img + (img * noise)\n",
    "\n",
    "cv.imshow('Dog', noise)\n",
    "cv.waitKey(0)\n",
    "cv.destroyAllWindows()"
   ]
  },
  {
   "cell_type": "markdown",
   "id": "813bf765",
   "metadata": {},
   "source": [
    "## Activity 4"
   ]
  },
  {
   "cell_type": "code",
   "execution_count": 8,
   "id": "5223f185",
   "metadata": {},
   "outputs": [
    {
     "data": {
      "text/plain": [
       "(183, 275, 3)"
      ]
     },
     "execution_count": 8,
     "metadata": {},
     "output_type": "execute_result"
    }
   ],
   "source": [
    "#Read image\n",
    "img = cv.imread('flower.jfif')\n",
    "\n",
    "#check the shape\n",
    "img.shape"
   ]
  },
  {
   "cell_type": "code",
   "execution_count": 9,
   "id": "11ebffd1",
   "metadata": {
    "scrolled": true
   },
   "outputs": [],
   "source": [
    "cut = img[35:125, 90:178]\n",
    "\n",
    "cv.imshow('Flower', cut)\n",
    "cv.waitKey(0)\n",
    "cv.destroyAllWindows()"
   ]
  },
  {
   "cell_type": "markdown",
   "id": "6c9fcf38",
   "metadata": {},
   "source": [
    "## Activity 5"
   ]
  },
  {
   "cell_type": "code",
   "execution_count": 10,
   "id": "6c38320c",
   "metadata": {},
   "outputs": [
    {
     "data": {
      "text/plain": [
       "False"
      ]
     },
     "execution_count": 10,
     "metadata": {},
     "output_type": "execute_result"
    }
   ],
   "source": [
    "#Read the image\n",
    "img = cv.imread('dog.jfif')\n",
    "\n",
    "#check the availability\n",
    "img is None"
   ]
  },
  {
   "cell_type": "markdown",
   "id": "dc157725",
   "metadata": {},
   "source": [
    "### Sclicing for comparing"
   ]
  },
  {
   "cell_type": "code",
   "execution_count": 11,
   "id": "146437b1",
   "metadata": {},
   "outputs": [],
   "source": [
    "img.shape\n",
    "\n",
    "img2 = img[0:168, 80:220]\n",
    "cv.imshow('dog3', img2)\n",
    "cv.waitKey(0)\n",
    "cv.destroyAllWindows()"
   ]
  },
  {
   "cell_type": "markdown",
   "id": "cefea15e",
   "metadata": {},
   "source": [
    "### i) Linear interpolation"
   ]
  },
  {
   "cell_type": "code",
   "execution_count": 12,
   "id": "000ddcae",
   "metadata": {},
   "outputs": [],
   "source": [
    "tech1 = cv.resize(img2, None, fx=2, fy=2, interpolation=cv.INTER_NEAREST)\n",
    "\n",
    "cv.imshow('dog1', tech1)\n",
    "cv.waitKey(0)\n",
    "cv.destroyAllWindows()\n",
    "\n",
    "#Having bad resolution than the bilinear and bicubic interpolation\n",
    "#worse resolution than the original image"
   ]
  },
  {
   "cell_type": "markdown",
   "id": "74991d52",
   "metadata": {},
   "source": [
    "### ii) bilinear interpolation"
   ]
  },
  {
   "cell_type": "code",
   "execution_count": 13,
   "id": "277746ef",
   "metadata": {},
   "outputs": [],
   "source": [
    "tech2 = cv.resize(img2, None, fx=2, fy=2, interpolation=cv.INTER_LINEAR)\n",
    "\n",
    "cv.imshow('dog2', tech2)\n",
    "cv.waitKey(0)\n",
    "cv.destroyAllWindows()\n",
    "\n",
    "#Having the greatest resolution among the interpolation\n",
    "#better resolution than the original image"
   ]
  },
  {
   "cell_type": "markdown",
   "id": "71468682",
   "metadata": {},
   "source": [
    "### iii) bicubic interpolation"
   ]
  },
  {
   "cell_type": "code",
   "execution_count": 14,
   "id": "fb8246cf",
   "metadata": {},
   "outputs": [],
   "source": [
    "tech3 = cv.resize(img2, None, fx=2, fy=2, interpolation=cv.INTER_CUBIC)\n",
    "\n",
    "cv.imshow('dog3', tech3)\n",
    "cv.waitKey(0)\n",
    "cv.destroyAllWindows()\n",
    "\n",
    "#Having good resolution but not as the bilinear interpolation\n",
    "#more likely the same as the original image"
   ]
  },
  {
   "cell_type": "markdown",
   "id": "24cbf592",
   "metadata": {},
   "source": [
    "### Combine the images for comparing"
   ]
  },
  {
   "cell_type": "code",
   "execution_count": 15,
   "id": "d96d94c6",
   "metadata": {},
   "outputs": [],
   "source": [
    "combine = np.concatenate((tech1, tech2), axis=1)\n",
    "combine = np.concatenate((combine, tech3), axis=1)\n",
    "\n",
    "cv.imshow('dog', combine)\n",
    "cv.waitKey(0)\n",
    "cv.destroyAllWindows()"
   ]
  },
  {
   "cell_type": "code",
   "execution_count": null,
   "id": "ebdcda4c",
   "metadata": {},
   "outputs": [],
   "source": []
  }
 ],
 "metadata": {
  "kernelspec": {
   "display_name": "Python 3 (ipykernel)",
   "language": "python",
   "name": "python3"
  },
  "language_info": {
   "codemirror_mode": {
    "name": "ipython",
    "version": 3
   },
   "file_extension": ".py",
   "mimetype": "text/x-python",
   "name": "python",
   "nbconvert_exporter": "python",
   "pygments_lexer": "ipython3",
   "version": "3.10.5"
  }
 },
 "nbformat": 4,
 "nbformat_minor": 5
}
